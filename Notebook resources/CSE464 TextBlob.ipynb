{
 "cells": [
  {
   "cell_type": "code",
   "execution_count": 1,
   "metadata": {},
   "outputs": [],
   "source": [
    "from textblob import TextBlob"
   ]
  },
  {
   "cell_type": "code",
   "execution_count": 2,
   "metadata": {},
   "outputs": [],
   "source": [
    "test_sent = TextBlob(\"The course is not that tough and is related to our careers but the instructor makes it very difficult for us to comprehend and understand the course. The instructor should be changed, the course should remain.\")"
   ]
  },
  {
   "cell_type": "code",
   "execution_count": 3,
   "metadata": {},
   "outputs": [
    {
     "data": {
      "text/plain": [
       "[Sentence(\"The course is not that tough and is related to our careers but the instructor makes it very difficult for us to comprehend and understand the course.\"),\n",
       " Sentence(\"The instructor should be changed, the course should remain.\")]"
      ]
     },
     "execution_count": 3,
     "metadata": {},
     "output_type": "execute_result"
    }
   ],
   "source": [
    "test_sent.sentences"
   ]
  },
  {
   "cell_type": "code",
   "execution_count": 5,
   "metadata": {},
   "outputs": [
    {
     "name": "stdout",
     "output_type": "stream",
     "text": [
      "The\n",
      "course\n",
      "is\n",
      "not\n",
      "that\n",
      "tough\n",
      "and\n",
      "is\n",
      "related\n",
      "to\n",
      "our\n",
      "careers\n",
      "but\n",
      "the\n",
      "instructor\n",
      "makes\n",
      "it\n",
      "very\n",
      "difficult\n",
      "for\n",
      "us\n",
      "to\n",
      "comprehend\n",
      "and\n",
      "understand\n",
      "the\n",
      "course\n"
     ]
    }
   ],
   "source": [
    "for words in test_sent.sentences[0].words:  ## printing words of first sentence\n",
    "    print (words)"
   ]
  },
  {
   "cell_type": "code",
   "execution_count": 7,
   "metadata": {},
   "outputs": [
    {
     "name": "stdout",
     "output_type": "stream",
     "text": [
      "The DT\n",
      "course NN\n",
      "is VBZ\n",
      "not RB\n",
      "that IN\n",
      "tough JJ\n",
      "and CC\n",
      "is VBZ\n",
      "related VBN\n",
      "to TO\n",
      "our PRP$\n",
      "careers NNS\n",
      "but CC\n",
      "the DT\n",
      "instructor NN\n",
      "makes VBZ\n",
      "it PRP\n",
      "very RB\n",
      "difficult JJ\n",
      "for IN\n",
      "us PRP\n",
      "to TO\n",
      "comprehend VB\n",
      "and CC\n",
      "understand VB\n",
      "the DT\n",
      "course NN\n",
      "The DT\n",
      "instructor NN\n",
      "should MD\n",
      "be VB\n",
      "changed VBN\n",
      "the DT\n",
      "course NN\n",
      "should MD\n",
      "remain VB\n"
     ]
    }
   ],
   "source": [
    "for words, tag in test_sent.tags:\n",
    "    print (words, tag)"
   ]
  },
  {
   "cell_type": "code",
   "execution_count": 8,
   "metadata": {},
   "outputs": [
    {
     "data": {
      "text/plain": [
       "TextBlob(\"I like the movie but it was a bit lengthy.\")"
      ]
     },
     "execution_count": 8,
     "metadata": {},
     "output_type": "execute_result"
    }
   ],
   "source": [
    "sample = TextBlob('I lke the movie but it was a bit lngthy.')\n",
    "sample.correct()"
   ]
  },
  {
   "cell_type": "code",
   "execution_count": 9,
   "metadata": {},
   "outputs": [
    {
     "data": {
      "text/plain": [
       "[('lengthy', 1.0)]"
      ]
     },
     "execution_count": 9,
     "metadata": {},
     "output_type": "execute_result"
    }
   ],
   "source": [
    "sample.words[9].spellcheck()"
   ]
  },
  {
   "cell_type": "code",
   "execution_count": 11,
   "metadata": {},
   "outputs": [
    {
     "name": "stdout",
     "output_type": "stream",
     "text": [
      "['course', 'instructor']\n"
     ]
    }
   ],
   "source": [
    "nouns = list()\n",
    "for word, tag in test_sent.tags:\n",
    "    if tag == 'NN':  \n",
    "        #print(word)\n",
    "        #if (word not in nouns):\n",
    "            nouns.append(word.lemmatize())\n",
    "print(nouns)"
   ]
  },
  {
   "cell_type": "code",
   "execution_count": 13,
   "metadata": {},
   "outputs": [],
   "source": [
    "import random"
   ]
  },
  {
   "cell_type": "code",
   "execution_count": 15,
   "metadata": {},
   "outputs": [
    {
     "name": "stdout",
     "output_type": "stream",
     "text": [
      "This text is about...\n",
      "instructor\n",
      "course\n"
     ]
    }
   ],
   "source": [
    "print (\"This text is about...\")\n",
    "for item in random.sample(nouns, 2):\n",
    "    print (item)\n"
   ]
  },
  {
   "cell_type": "code",
   "execution_count": 16,
   "metadata": {},
   "outputs": [],
   "source": [
    "dawn_article = '''\n",
    "IMAGINE an emergency room packed to the brim with patients in need of immediate medical attention. There are gunshot victims bleeding out on the floor, there are people with broken bones and asthmatics gasping for breath waiting in line. Now imagine that the doctor on duty ignores all these patients, and instead, decides to treat a hypochondriac for a runny nose. What sort of action would we demand be taken against such a doctor?\n",
    "\n",
    "Now hear this: there is a museum in Lahore called, unimaginatively enough, the Lahore Museum. Outside this museum was a rather demonic looking and frankly ugly 20-foot-tall statue. This drew the ire of an individual who felt that this “sculpture of Satan” was frightening children and also had “nothing to do with our culture”. Not content with ranting on Facebook like the rest of us, she went and filed a petition in the Lahore High Court.\n",
    "\n",
    "This petition was taken up by a high court bench which issued notices to the Punjab chief secretary and the Lahore Museum director, and the petitioner was even thanked for her efforts by the learned judge.\n",
    "\n",
    "The petition was entertained even though there are a trifling 1.8 million cases pending in Pakistan’s courts (8,539 cases pending with the Supreme Court, 293,947 with the five high courts and 1,869,886 cases with the subordinate judiciary of the four provinces and the federal capital) and it is surprising that instead of reducing the case load pending in courts, notices were issued on a frivolous petition regarding a questionably artistic statue. Ironically enough, the high court issued these notices on the same day that Chief Justice Asif Khosa took oath with a pledge to build “a dam against undue and unnecessary delays in judicial determination of cases, a dam against frivolous litigation and a dam against fake witnesses and false testimonies”.\n",
    "\n",
    "To be fair, some infamous ‘serial petitioners’ have been fined and even barred from court premises but damming this flood of frivolity will be no easy task.\n",
    "\n",
    "And there are other challenges as well: consider that for close to a month lawyers have been on strike in the local courts of Islamabad, calling for the rotation of lower court judges but also protesting against the demolishing of the illegal chambers they had built in front of the courtroom.\n",
    "\n",
    "Incensed by the demolition, they had the audacity to blockade 20 judges in their courtrooms, effectively holding them hostage. But now I’m pleased to report that the lawyers have relented and will only observe a strike every Tuesday and Friday. This means that lucky litigants may just get their cases heard three days a week.\n",
    "\n",
    "This conduct — and the fact that no action was taken against these miscreants — exemplifies the judicial drift that began with chief justice Iftikhar Chaudhry and reached what we hope is its zenith during the term of Saqib Nisar. Overly fond of well-planned and widely telecast ‘surprise’ raids, the former chief justice was often criticised (albeit carefully for fear of inviting contempt charges) for his seeming unwillingness to treat his own fraternity the way he would treat, say, doctors at a hospital he raided.\n",
    "\n",
    "Perhaps it was in response to this that he showed up at a Larkana court, slamming a judge’s mobile phone on the desk in a very public display of anger. But this too, like so much else, was just sound and fury — a made-for-TV presentation that lasted as long as the average news ticker does.\n",
    "\n",
    "Can any chief justice afford to bell this particularly vicious cat? Justice Khosa certainly does seem to understand the magnitude of the task he is faced with, and has commented that in the case of the Islamabad strikes, “It is the lawyers that have stopped working; judges [in the district sessions courts of Islamabad] are sitting there waiting for people to come to them so that they dispense justice”.\n",
    "\n",
    "But while a month-long strike will certainly attract attention, the fact is that courts are frequently suspended simply due to the death of a lawyer or judge. In a country where justice is a scarce commodity, where litigants sometimes wait decades for the resolution of a simple case, this is nothing short of criminal neglect.\n",
    "\n",
    "The courts must be treated as nothing less than an essential service and if the former chief justice could rage against doctors going on strike, certainly he could have spared a word or two for lawyers doing the same whenever the fancy takes them.\n",
    "\n",
    "It has been an unfortunate hallmark of Pakistani polity that we, whether as individuals or institutions, have an aversion to setting our own house in order before poking around in the neighbours’ yard. Or perhaps we do so because we are unable to set our own house in order. One hopes the incoming chief justice will buck this trend.\n",
    "'''\n",
    "dawn_txt_blob = TextBlob(dawn_article)"
   ]
  },
  {
   "cell_type": "code",
   "execution_count": null,
   "metadata": {},
   "outputs": [],
   "source": []
  },
  {
   "cell_type": "code",
   "execution_count": 21,
   "metadata": {},
   "outputs": [
    {
     "name": "stdout",
     "output_type": "stream",
     "text": [
      "['emergency', 'room', 'brim', 'need', 'attention', 'floor', 'breath', 'line', 'doctor', 'duty', 'hypochondriac', 'runny', 'nose', 'sort', 'action', 'doctor', 'museum', 'museum', 'statue', 'ire', 'individual', 'sculpture', 'nothing', 'culture', '”', 'rest', 'petition', 'petition', 'court', 'bench', 'chief', 'secretary', 'director', 'petitioner', 'judge', 'petition', 's', 'judiciary', 'capital', 'case', 'load', 'petition', 'statue', 'court', 'day', 'pledge', 'dam', 'determination', 'dam', 'litigation', 'dam', 'court', 'flood', 'frivolity', 'task', 'well', 'consider', 'month', 'strike', 'rotation', 'court', 'demolishing', 'front', 'courtroom', 'demolition', 'audacity', 'hostage', 'strike', 'week', 'conduct', '—', 'fact', 'action', 'drift', 'justice', 'zenith', 'term', 'fond', 'surprise', 'chief', 'justice', 'fear', 'contempt', 'fraternity', 'way', 'hospital', 'response', 'court', 'judge', 's', 'mobile', 'phone', 'desk', 'display', 'anger', 'fury', 'presentation', 'news', 'ticker', 'justice', 'afford', 'cat', 'magnitude', 'task', 'case', 'district', 'justice', '”', 'strike', 'attention', 'fact', 'death', 'lawyer', 'judge', 'country', 'justice', 'commodity', 'resolution', 'case', 'nothing', 'neglect', 'nothing', 'service', 'chief', 'justice', 'strike', 'word', 'fancy', 'hallmark', 'polity', 'aversion', 'house', 'order', 'yard', 'house', 'order', 'incoming', 'justice', 'trend']\n"
     ]
    }
   ],
   "source": [
    "nouns = list()\n",
    "for word, tag in dawn_txt_blob.tags:\n",
    "    if tag == 'NN':  \n",
    "        #print(word)\n",
    "        #if (word not in nouns):\n",
    "        nouns.append(word.lemmatize())\n",
    "print(nouns)"
   ]
  },
  {
   "cell_type": "code",
   "execution_count": 22,
   "metadata": {},
   "outputs": [
    {
     "name": "stdout",
     "output_type": "stream",
     "text": [
      "This text is about...\n",
      "zenith\n",
      "commodity\n",
      "sort\n",
      "attention\n",
      "justice\n"
     ]
    }
   ],
   "source": [
    "print (\"This text is about...\")\n",
    "for item in random.sample(nouns, 5):\n",
    "    print (item)"
   ]
  },
  {
   "cell_type": "code",
   "execution_count": 19,
   "metadata": {},
   "outputs": [],
   "source": [
    "from collections import Counter"
   ]
  },
  {
   "cell_type": "code",
   "execution_count": 23,
   "metadata": {},
   "outputs": [
    {
     "name": "stdout",
     "output_type": "stream",
     "text": [
      "Counter({'justice': 7, 'court': 5, 'petition': 4, 'strike': 4, 'nothing': 3, 'chief': 3, 'judge': 3, 'case': 3, 'dam': 3, 'attention': 2, 'doctor': 2, 'action': 2, 'museum': 2, 'statue': 2, '”': 2, 's': 2, 'task': 2, 'fact': 2, 'house': 2, 'order': 2, 'emergency': 1, 'room': 1, 'brim': 1, 'need': 1, 'floor': 1, 'breath': 1, 'line': 1, 'duty': 1, 'hypochondriac': 1, 'runny': 1, 'nose': 1, 'sort': 1, 'ire': 1, 'individual': 1, 'sculpture': 1, 'culture': 1, 'rest': 1, 'bench': 1, 'secretary': 1, 'director': 1, 'petitioner': 1, 'judiciary': 1, 'capital': 1, 'load': 1, 'day': 1, 'pledge': 1, 'determination': 1, 'litigation': 1, 'flood': 1, 'frivolity': 1, 'well': 1, 'consider': 1, 'month': 1, 'rotation': 1, 'demolishing': 1, 'front': 1, 'courtroom': 1, 'demolition': 1, 'audacity': 1, 'hostage': 1, 'week': 1, 'conduct': 1, '—': 1, 'drift': 1, 'zenith': 1, 'term': 1, 'fond': 1, 'surprise': 1, 'fear': 1, 'contempt': 1, 'fraternity': 1, 'way': 1, 'hospital': 1, 'response': 1, 'mobile': 1, 'phone': 1, 'desk': 1, 'display': 1, 'anger': 1, 'fury': 1, 'presentation': 1, 'news': 1, 'ticker': 1, 'afford': 1, 'cat': 1, 'magnitude': 1, 'district': 1, 'death': 1, 'lawyer': 1, 'country': 1, 'commodity': 1, 'resolution': 1, 'neglect': 1, 'service': 1, 'word': 1, 'fancy': 1, 'hallmark': 1, 'polity': 1, 'aversion': 1, 'yard': 1, 'incoming': 1, 'trend': 1})\n"
     ]
    }
   ],
   "source": [
    "counts = Counter(nouns)\n",
    "print(counts)"
   ]
  },
  {
   "cell_type": "code",
   "execution_count": 24,
   "metadata": {},
   "outputs": [
    {
     "name": "stdout",
     "output_type": "stream",
     "text": [
      "justice\n",
      "court\n",
      "petition\n",
      "strike\n",
      "nothing\n"
     ]
    }
   ],
   "source": [
    "sorted_nouns = sorted(counts, key=counts.get, reverse=True)\n",
    "top_nouns = sorted_nouns[0:5]\n",
    "for item in top_nouns:    \n",
    "    print (item)"
   ]
  },
  {
   "cell_type": "code",
   "execution_count": 25,
   "metadata": {},
   "outputs": [
    {
     "data": {
      "text/plain": [
       "[('justice', 7), ('court', 5), ('petition', 4), ('strike', 4), ('nothing', 3)]"
      ]
     },
     "execution_count": 25,
     "metadata": {},
     "output_type": "execute_result"
    }
   ],
   "source": [
    "counts.most_common(5)"
   ]
  },
  {
   "cell_type": "code",
   "execution_count": 26,
   "metadata": {},
   "outputs": [
    {
     "data": {
      "text/plain": [
       "[Synset('course.n.01'),\n",
       " Synset('course.n.02'),\n",
       " Synset('course.n.03'),\n",
       " Synset('course.n.04'),\n",
       " Synset('path.n.04'),\n",
       " Synset('class.n.02'),\n",
       " Synset('course.n.07'),\n",
       " Synset('course.n.08'),\n",
       " Synset('course.n.09'),\n",
       " Synset('course.v.01'),\n",
       " Synset('run.v.06'),\n",
       " Synset('course.v.03'),\n",
       " Synset('naturally.r.01')]"
      ]
     },
     "execution_count": 26,
     "metadata": {},
     "output_type": "execute_result"
    }
   ],
   "source": [
    "from textblob import Word\n",
    "from textblob.wordnet import VERB\n",
    "word = Word(\"course\")\n",
    "word.synsets"
   ]
  },
  {
   "cell_type": "code",
   "execution_count": 29,
   "metadata": {},
   "outputs": [
    {
     "data": {
      "text/plain": [
       "[Synset('play.v.01'),\n",
       " Synset('play.v.02'),\n",
       " Synset('play.v.03'),\n",
       " Synset('act.v.03'),\n",
       " Synset('play.v.05'),\n",
       " Synset('play.v.06'),\n",
       " Synset('play.v.07'),\n",
       " Synset('act.v.05'),\n",
       " Synset('play.v.09'),\n",
       " Synset('play.v.10'),\n",
       " Synset('play.v.11'),\n",
       " Synset('play.v.12'),\n",
       " Synset('play.v.13'),\n",
       " Synset('play.v.14'),\n",
       " Synset('play.v.15'),\n",
       " Synset('play.v.16'),\n",
       " Synset('play.v.17'),\n",
       " Synset('play.v.18'),\n",
       " Synset('toy.v.02'),\n",
       " Synset('play.v.20'),\n",
       " Synset('dally.v.04'),\n",
       " Synset('play.v.22'),\n",
       " Synset('dally.v.01'),\n",
       " Synset('play.v.24'),\n",
       " Synset('act.v.10'),\n",
       " Synset('play.v.26'),\n",
       " Synset('bring.v.03'),\n",
       " Synset('play.v.28'),\n",
       " Synset('play.v.29'),\n",
       " Synset('bet.v.02'),\n",
       " Synset('play.v.31'),\n",
       " Synset('play.v.32'),\n",
       " Synset('play.v.33'),\n",
       " Synset('meet.v.10'),\n",
       " Synset('play.v.35')]"
      ]
     },
     "execution_count": 29,
     "metadata": {},
     "output_type": "execute_result"
    }
   ],
   "source": [
    "Word(\"play\").get_synsets(pos=VERB)"
   ]
  },
  {
   "cell_type": "code",
   "execution_count": 3,
   "metadata": {},
   "outputs": [
    {
     "data": {
      "text/plain": [
       "TextBlob(\"کورس اتنا سخت نہیں ہے اور اس کا تعلق ہمارے کیریئر سے ہے لیکن انسٹرکٹر ہمارے لئے کورس کو سمجھنا اور سمجھنا بہت مشکل بنا دیتا ہے۔ انسٹرکٹر کو تبدیل کرنا چاہئے ، کورس باقی رہنا چاہئے۔\")"
      ]
     },
     "execution_count": 3,
     "metadata": {},
     "output_type": "execute_result"
    }
   ],
   "source": [
    "test_sent.translate(to='ur')"
   ]
  },
  {
   "cell_type": "code",
   "execution_count": null,
   "metadata": {},
   "outputs": [],
   "source": []
  },
  {
   "cell_type": "code",
   "execution_count": 4,
   "metadata": {},
   "outputs": [
    {
     "data": {
      "text/plain": [
       "TextBlob(\"This course is not difficult and relates to our career but the instructor makes it very difficult for us to understand and understand the course. Teachers should be changed, the course should stay.\")"
      ]
     },
     "execution_count": 4,
     "metadata": {},
     "output_type": "execute_result"
    }
   ],
   "source": [
    "urdu_blob = TextBlob(u\"یہ کورس مشکل نہیں ہے اور ہمارے کیریئر سے متعلق ہے لیکن انسٹرکٹر ہمیں کورس کو سمجھنے اور سمجھنے کے لئے یہ بہت مشکل بنا دیتا ہے. اساتذہ کو تبدیل کیا جانا چاہئے، کورس رہنا چاہئے.\")\n",
    "urdu_blob.translate(from_lang=\"ur\", to='en')"
   ]
  },
  {
   "cell_type": "code",
   "execution_count": 5,
   "metadata": {},
   "outputs": [
    {
     "data": {
      "text/plain": [
       "TextBlob(\"یہ کورس مشکل نہیں ہے اور اس کا تعلق ہمارے کیریئر سے ہے لیکن انسٹرکٹر ہمارے لئے کورس کو سمجھنا اور سمجھنا بہت مشکل بنا دیتا ہے۔ اساتذہ کو تبدیل کیا جانا چاہئے ، کورس رہنا چاہئے۔\")"
      ]
     },
     "execution_count": 5,
     "metadata": {},
     "output_type": "execute_result"
    }
   ],
   "source": [
    "test_sent2 = TextBlob(\"This course is not difficult and relates to our career but the instructor makes it very difficult for us to understand and understand the course. Teachers should be changed, the course should stay.\")\n",
    "test_sent2.translate(to='ur')"
   ]
  },
  {
   "cell_type": "code",
   "execution_count": 32,
   "metadata": {},
   "outputs": [
    {
     "data": {
      "text/plain": [
       "'ur'"
      ]
     },
     "execution_count": 32,
     "metadata": {},
     "output_type": "execute_result"
    }
   ],
   "source": [
    "urdu_blob.detect_language()"
   ]
  },
  {
   "cell_type": "code",
   "execution_count": null,
   "metadata": {},
   "outputs": [],
   "source": []
  }
 ],
 "metadata": {
  "kernelspec": {
   "display_name": "Python 3",
   "language": "python",
   "name": "python3"
  },
  "language_info": {
   "codemirror_mode": {
    "name": "ipython",
    "version": 3
   },
   "file_extension": ".py",
   "mimetype": "text/x-python",
   "name": "python",
   "nbconvert_exporter": "python",
   "pygments_lexer": "ipython3",
   "version": "3.7.3"
  }
 },
 "nbformat": 4,
 "nbformat_minor": 2
}
